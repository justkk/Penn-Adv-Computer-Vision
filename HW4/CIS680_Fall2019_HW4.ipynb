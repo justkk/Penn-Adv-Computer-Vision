{
  "nbformat": 4,
  "nbformat_minor": 0,
  "metadata": {
    "colab": {
      "name": "CIS680_Fall2019_HW4.ipynb",
      "provenance": [],
      "collapsed_sections": [
        "9qxR8EhmrSGW",
        "xkT0EMspKy64",
        "9X58DG3DrXx4",
        "51qcg1_Irjwf",
        "DJwXHWmErojM",
        "p5df0Zrfrs0J",
        "EvNh3B3FiAPY",
        "mSyobxVWqBMA"
      ],
      "toc_visible": true
    },
    "kernelspec": {
      "name": "python3",
      "display_name": "Python 3"
    },
    "accelerator": "GPU"
  },
  "cells": [
    {
      "cell_type": "markdown",
      "metadata": {
        "id": "mHbNxdP6eLd2",
        "colab_type": "text"
      },
      "source": [
        "# Google Drive\n",
        "\n",
        "This first code block attaches your google drive and makes a folder structure. You only need to run this when a new VM is assigned to you. To get your code as a single python file go through the following menus File->'Download .py'.\n",
        "\n",
        "This also downloads the 2 files that contain the dataset and the checkpoint:\n",
        "\n",
        "\n",
        "https://drive.google.com/open?id=1ABUtpgdWMnMG6S6wLgqxXnAQ-8Fyq5F0\n",
        "\n",
        "https://drive.google.com/open?id=1ilx871Zws-rS1Ek_ZAC-imD50A8bTQ80"
      ]
    },
    {
      "cell_type": "code",
      "metadata": {
        "id": "IDRvN60UA_xm",
        "colab_type": "code",
        "outputId": "a9f67643-9d80-4f1e-ed74-bd825825a3a9",
        "colab": {
          "base_uri": "https://localhost:8080/",
          "height": 122
        }
      },
      "source": [
        "from google.colab import drive\n",
        "drive.mount('/content/drive')"
      ],
      "execution_count": 0,
      "outputs": [
        {
          "output_type": "stream",
          "text": [
            "Go to this URL in a browser: https://accounts.google.com/o/oauth2/auth?client_id=947318989803-6bn6qk8qdgf4n4g3pfee6491hc0brc4i.apps.googleusercontent.com&redirect_uri=urn%3aietf%3awg%3aoauth%3a2.0%3aoob&response_type=code&scope=email%20https%3a%2f%2fwww.googleapis.com%2fauth%2fdocs.test%20https%3a%2f%2fwww.googleapis.com%2fauth%2fdrive%20https%3a%2f%2fwww.googleapis.com%2fauth%2fdrive.photos.readonly%20https%3a%2f%2fwww.googleapis.com%2fauth%2fpeopleapi.readonly\n",
            "\n",
            "Enter your authorization code:\n",
            "··········\n",
            "Mounted at /content/drive\n"
          ],
          "name": "stdout"
        }
      ]
    },
    {
      "cell_type": "code",
      "metadata": {
        "id": "PYICcmTfdm0J",
        "colab_type": "code",
        "outputId": "5535d700-2e33-43fa-849c-e12afe231e4a",
        "colab": {
          "base_uri": "https://localhost:8080/",
          "height": 68
        }
      },
      "source": [
        "import os\n",
        "from google.colab import drive\n",
        "\n",
        "# Mount google drive\n",
        "DRIVE_MOUNT='/content/gdrive'\n",
        "drive.mount(DRIVE_MOUNT)\n",
        "\n",
        "\n",
        "# create folder to write data to\n",
        "CIS680_FOLDER=os.path.join(DRIVE_MOUNT, 'My Drive', 'CIS680_2019')\n",
        "HOMEWORK_FOLDER=os.path.join(CIS680_FOLDER, 'HW3a')\n",
        "os.makedirs(HOMEWORK_FOLDER, exist_ok=True)\n",
        "\n",
        "# bootstrap environment into place\n",
        "from google.colab import auth\n",
        "auth.authenticate_user()\n",
        "\n",
        "from googleapiclient.discovery import build\n",
        "drive_service = build('drive', 'v3')\n",
        "\n",
        "import io\n",
        "import os\n",
        "from googleapiclient.http import MediaIoBaseDownload\n",
        "\n",
        "def download_file(fn, file_id):\n",
        "    request = drive_service.files().get_media(fileId=file_id)\n",
        "    downloaded = io.BytesIO()\n",
        "    downloader = MediaIoBaseDownload(downloaded, request)\n",
        "    done = False\n",
        "    while done is False:\n",
        "        # _ is a placeholder for a progress object that we ignore.\n",
        "        # (Our file is small, so we skip reporting progress.)\n",
        "        _, done = downloader.next_chunk()\n",
        "    \n",
        "    downloaded.seek(0)\n",
        "\n",
        "    folder = fn.split('/')\n",
        "    if len(folder) > 1:\n",
        "        os.makedirs(folder[0], exist_ok=True)\n",
        "\n",
        "    with open(fn, 'wb') as f:\n",
        "        f.write(downloaded.read())\n",
        "\n",
        "id_to_fn = {\n",
        "'1ABUtpgdWMnMG6S6wLgqxXnAQ-8Fyq5F0': 'test.npz',\n",
        "'1ilx871Zws-rS1Ek_ZAC-imD50A8bTQ80': 'train.npz',\n",
        "}\n",
        "\n",
        "# download all files into the vm\n",
        "for fid, fn in id_to_fn.items():\n",
        "    print(\"Downloading %s from %s\" % (fn, fid))\n",
        "    download_file(fn, fid)"
      ],
      "execution_count": 0,
      "outputs": [
        {
          "output_type": "stream",
          "text": [
            "Mounted at /content/gdrive\n",
            "Downloading test.npz from 1ABUtpgdWMnMG6S6wLgqxXnAQ-8Fyq5F0\n",
            "Downloading train.npz from 1ilx871Zws-rS1Ek_ZAC-imD50A8bTQ80\n"
          ],
          "name": "stdout"
        }
      ]
    },
    {
      "cell_type": "markdown",
      "metadata": {
        "id": "sfKoCTkHr3OX",
        "colab_type": "text"
      },
      "source": [
        "# Basic Imports"
      ]
    },
    {
      "cell_type": "code",
      "metadata": {
        "id": "y2NfwmoRr2c2",
        "colab_type": "code",
        "colab": {}
      },
      "source": [
        "import torch\n",
        "import torchvision\n",
        "import torch.nn as nn\n",
        "import torch.nn.functional as F\n",
        "import torch.optim as optim\n",
        "from torchvision import datasets, transforms\n",
        "from torch.utils.data import DataLoader\n",
        "import numpy as np\n",
        "import matplotlib.pyplot as plt\n",
        "from torch.utils.data.dataloader import default_collate\n",
        "from skimage.transform import resize\n",
        "\n",
        "\n",
        "device = torch.device(\"cuda\" if torch.cuda.is_available() else \"cpu\")"
      ],
      "execution_count": 0,
      "outputs": []
    },
    {
      "cell_type": "markdown",
      "metadata": {
        "id": "yCWsblqPrOvq",
        "colab_type": "text"
      },
      "source": [
        "# 2.1 VAE"
      ]
    },
    {
      "cell_type": "markdown",
      "metadata": {
        "id": "9qxR8EhmrSGW",
        "colab_type": "text"
      },
      "source": [
        "## VAE Dataset"
      ]
    },
    {
      "cell_type": "code",
      "metadata": {
        "id": "4guVluChrR28",
        "colab_type": "code",
        "colab": {}
      },
      "source": [
        "train_dataset = datasets.MNIST('./files/', train=True, download=True,\n",
        "                             transform=torchvision.transforms.Compose([\n",
        "                               torchvision.transforms.ToTensor()\n",
        "                             ]))\n",
        "\n",
        "test_dataset = datasets.MNIST('./files/', train=False, download=True,\n",
        "                             transform=torchvision.transforms.Compose([\n",
        "                               torchvision.transforms.ToTensor()\n",
        "                             ]))\n"
      ],
      "execution_count": 0,
      "outputs": []
    },
    {
      "cell_type": "markdown",
      "metadata": {
        "id": "xkT0EMspKy64",
        "colab_type": "text"
      },
      "source": [
        "## VAE Data Loader"
      ]
    },
    {
      "cell_type": "code",
      "metadata": {
        "id": "2U1v81rTK3cQ",
        "colab_type": "code",
        "colab": {}
      },
      "source": [
        "train_data_loader = DataLoader(train_dataset, batch_size=100, shuffle=True)\n",
        "test_data_loader = DataLoader(test_dataset, batch_size=100, shuffle=True)\n",
        "\n",
        "test_recon_loader = DataLoader(test_dataset, batch_size=100, shuffle=False)"
      ],
      "execution_count": 0,
      "outputs": []
    },
    {
      "cell_type": "markdown",
      "metadata": {
        "id": "9X58DG3DrXx4",
        "colab_type": "text"
      },
      "source": [
        "## VAE Model Definition"
      ]
    },
    {
      "cell_type": "code",
      "metadata": {
        "id": "PXI5gLsordEY",
        "colab_type": "code",
        "colab": {}
      },
      "source": [
        "class VAE(nn.Module):\n",
        "  def __init__(self):\n",
        "    super().__init__()\n",
        "\n",
        "    self.fc1 = nn.Sequential(nn.Linear(784, 400), nn.ReLU())\n",
        "    self.fc2a = nn.Sequential(nn.Linear(400, 20), nn.ReLU())\n",
        "    self.fc2b = nn.Sequential(nn.Linear(400, 20), nn.ReLU())\n",
        "    \n",
        "    self.fc3 = nn.Sequential(nn.Linear(20, 400), nn.ReLU())\n",
        "    self.fc4 = nn.Sequential(nn.Linear(400, 784), nn.Sigmoid())\n",
        "  \n",
        "  def sample_z(self, mu, sigma):\n",
        "    z = torch.randn_like(mu) * sigma + mu\n",
        "    return z\n",
        "  \n",
        "  def encoder(self, X):\n",
        "    fc1_out = self.fc1(X)\n",
        "    mu = self.fc2a(fc1_out)\n",
        "    ln_var = self.fc2b(fc1_out)\n",
        "    return mu, ln_var.exp()\n",
        "  \n",
        "  def decoder(self, z):\n",
        "    fc3_out = self.fc3(z)\n",
        "    fc4_out = self.fc4(fc3_out)\n",
        "    return fc4_out\n",
        "    \n",
        "  def forward(self, X):\n",
        "    X = X.view(-1, 784)\n",
        "    mu, var = self.encoder(X)\n",
        "    sigma = torch.sqrt(var)\n",
        "    z = self.sample_z(mu, sigma)\n",
        "    decoder_out = self.decoder(z)\n",
        "    return mu, var, decoder_out\n",
        "  "
      ],
      "execution_count": 0,
      "outputs": []
    },
    {
      "cell_type": "markdown",
      "metadata": {
        "id": "usxT6vPErdln",
        "colab_type": "text"
      },
      "source": [
        "## VAE Loss Function"
      ]
    },
    {
      "cell_type": "code",
      "metadata": {
        "id": "8bZXBikcriZ7",
        "colab_type": "code",
        "colab": {}
      },
      "source": [
        "def loss_function(mu, var, decoder_out, x_input):\n",
        "  KLD = -0.5 * torch.sum( 1 + torch.log(var) - mu.pow(2) - var)\n",
        "  reconstruction_error = F.binary_cross_entropy(decoder_out, x_input, reduction='sum')\n",
        "  return reconstruction_error , KLD\n"
      ],
      "execution_count": 0,
      "outputs": []
    },
    {
      "cell_type": "markdown",
      "metadata": {
        "id": "51qcg1_Irjwf",
        "colab_type": "text"
      },
      "source": [
        "## VAE Wrapper"
      ]
    },
    {
      "cell_type": "code",
      "metadata": {
        "id": "NiIp0N3drn4D",
        "colab_type": "code",
        "colab": {}
      },
      "source": [
        "class VAEWrapper():\n",
        "  def __init__(self, vae, lr):\n",
        "    self.vae = vae.to(device)\n",
        "    self.adam = torch.optim.Adam(self.vae.parameters())\n",
        "    self.train_loss_data, self.test_loss_data = [], []\n",
        "    self.infer_out = []\n",
        "  \n",
        "  def infer_data(self, X):\n",
        "    with torch.no_grad():\n",
        "      n_input = torch.tensor(X).type(torch.float).to(device)\n",
        "      mu, var, decoder_out = self.vae(n_input)\n",
        "      image_out = decoder_out.view(-1, 28, 28).cpu()\n",
        "      return image_out\n",
        "  \n",
        "  def infer_data_from_loader(self, data_loader):\n",
        "    main_out = []\n",
        "    with torch.no_grad():\n",
        "      for batch_id, (samples, labels) in enumerate(data_loader):\n",
        "        samples = samples.to(device)\n",
        "        _, _, output = self.vae(samples)\n",
        "        main_out.append(output.detach().cpu().view(-1, 28, 28))\n",
        "    return main_out\n",
        "\n",
        "    \n",
        "  def train_network(self, data_loader, epoch=0): \n",
        "    for batch_id, (samples, labels) in enumerate(data_loader):\n",
        "      self.adam.zero_grad()\n",
        "      samples_flat = samples.view(-1, 784).to(device)\n",
        "      mu, var, decoder_out = self.vae(samples_flat)\n",
        "      recon_loss, kld_loss = loss_function(mu, var, decoder_out, samples_flat)\n",
        "      loss = (recon_loss + kld_loss) * 1.0 / samples.shape[0]\n",
        "      loss.backward()\n",
        "      self.adam.step()\n",
        "\n",
        "      if batch_id % 100 == 0:\n",
        "        print('Train Epoch: {} [{}/{} ({:.0f}%)]\\tLoss: {:.6f}'.format(\n",
        "                epoch, batch_id * samples.shape[0], len(data_loader.dataset),\n",
        "                samples.shape[0] * batch_id / len(data_loader), loss.item() / samples.shape[0]))\n",
        "  \n",
        "  def test_network(self, data_loader, print_prefix='Train', epoch_num=0):\n",
        "\n",
        "    total_loss = 0\n",
        "    total_recon_loss = 0\n",
        "    total_kld_loss = 0\n",
        "    \n",
        "    batch_count = 0\n",
        "    sample_count = 0\n",
        "\n",
        "    with torch.no_grad():\n",
        "      for batch_id, (samples, labels) in enumerate(data_loader):\n",
        "        samples_flat = samples.view(-1, 784).to(device)\n",
        "        mu, var, decoder_out = self.vae(samples_flat)\n",
        "        recon_loss, kld_loss = loss_function(mu, var, decoder_out, samples_flat)\n",
        "        loss = recon_loss + kld_loss\n",
        "        \n",
        "        total_recon_loss += recon_loss.item()\n",
        "        total_kld_loss += kld_loss.item()\n",
        "        total_loss += loss.item()\n",
        "\n",
        "        batch_count += 1\n",
        "        sample_count += samples.shape[0]\n",
        "    \n",
        "    loss_info = np.array([total_recon_loss, total_kld_loss, total_loss])\n",
        "    loss_record = [loss_info, batch_count, sample_count]\n",
        "\n",
        "    print(print_prefix + \" Epoch : {}, Loss: {}, Recon_Loss: {}, KLD_Loss: {}\".format(epoch_num, loss_info[-1]/sample_count, loss_info[0]/sample_count, loss_info[1]/sample_count))\n",
        "    return loss_record\n"
      ],
      "execution_count": 0,
      "outputs": []
    },
    {
      "cell_type": "markdown",
      "metadata": {
        "id": "DJwXHWmErojM",
        "colab_type": "text"
      },
      "source": [
        "## VAE Training"
      ]
    },
    {
      "cell_type": "code",
      "metadata": {
        "id": "qfyY2CgbrsUL",
        "colab_type": "code",
        "outputId": "74ef2816-a4fd-45a0-b93a-46b531c829a3",
        "colab": {
          "base_uri": "https://localhost:8080/",
          "height": 1000
        }
      },
      "source": [
        "vae = VAE()\n",
        "nw = VAEWrapper(vae, 0.001)\n",
        "\n",
        "for  epoch in range(50):\n",
        "  nw.train_network(train_data_loader)\n",
        "  train_loss = nw.test_network(train_data_loader, print_prefix='Train', epoch_num=epoch+1)\n",
        "  test_loss = nw.test_network(test_data_loader, print_prefix='Test', epoch_num=epoch + 1)\n",
        "\n",
        "  nw.train_loss_data.append(train_loss)\n",
        "  nw.test_loss_data.append(test_loss)\n",
        "\n",
        "  test_infer_out = nw.infer_data_from_loader(test_recon_loader)\n",
        "  nw.infer_out.append(test_infer_out)\n",
        "\n"
      ],
      "execution_count": 0,
      "outputs": [
        {
          "output_type": "stream",
          "text": [
            "Train Epoch: 0 [0/60000 (0%)]\tLoss: 5.491292\n",
            "Train Epoch: 0 [10000/60000 (17%)]\tLoss: 2.038597\n",
            "Train Epoch: 0 [20000/60000 (33%)]\tLoss: 1.812299\n",
            "Train Epoch: 0 [30000/60000 (50%)]\tLoss: 1.773355\n",
            "Train Epoch: 0 [40000/60000 (67%)]\tLoss: 1.773459\n",
            "Train Epoch: 0 [50000/60000 (83%)]\tLoss: 1.642642\n",
            "Train Epoch : 1, Loss: 166.0086133951823, Recon_Loss: 149.9522997721354, KLD_Loss: 16.05631377766927\n",
            "Test Epoch : 1, Loss: 165.5425529296875, Recon_Loss: 149.12031796875, KLD_Loss: 16.42223494873047\n",
            "Train Epoch: 0 [0/60000 (0%)]\tLoss: 1.686969\n",
            "Train Epoch: 0 [10000/60000 (17%)]\tLoss: 1.649244\n",
            "Train Epoch: 0 [20000/60000 (33%)]\tLoss: 1.668156\n",
            "Train Epoch: 0 [30000/60000 (50%)]\tLoss: 1.593008\n",
            "Train Epoch: 0 [40000/60000 (67%)]\tLoss: 1.673275\n",
            "Train Epoch: 0 [50000/60000 (83%)]\tLoss: 1.629853\n",
            "Train Epoch : 2, Loss: 160.9716291829427, Recon_Loss: 141.96920940755209, KLD_Loss: 19.00241982421875\n",
            "Test Epoch : 2, Loss: 160.40404921875, Recon_Loss: 140.84818486328126, KLD_Loss: 19.555864038085936\n",
            "Train Epoch: 0 [0/60000 (0%)]\tLoss: 1.581420\n",
            "Train Epoch: 0 [10000/60000 (17%)]\tLoss: 1.658968\n",
            "Train Epoch: 0 [20000/60000 (33%)]\tLoss: 1.623903\n",
            "Train Epoch: 0 [30000/60000 (50%)]\tLoss: 1.601353\n",
            "Train Epoch: 0 [40000/60000 (67%)]\tLoss: 1.733444\n",
            "Train Epoch: 0 [50000/60000 (83%)]\tLoss: 1.695246\n",
            "Train Epoch : 3, Loss: 159.39795642903647, Recon_Loss: 140.67561818033855, KLD_Loss: 18.72233819580078\n",
            "Test Epoch : 3, Loss: 158.70056328125, Recon_Loss: 139.49592109375, KLD_Loss: 19.20464317626953\n",
            "Train Epoch: 0 [0/60000 (0%)]\tLoss: 1.590857\n",
            "Train Epoch: 0 [10000/60000 (17%)]\tLoss: 1.538090\n",
            "Train Epoch: 0 [20000/60000 (33%)]\tLoss: 1.618298\n",
            "Train Epoch: 0 [30000/60000 (50%)]\tLoss: 1.567567\n",
            "Train Epoch: 0 [40000/60000 (67%)]\tLoss: 1.632066\n",
            "Train Epoch: 0 [50000/60000 (83%)]\tLoss: 1.566681\n",
            "Train Epoch : 4, Loss: 158.2855358561198, Recon_Loss: 139.08115659179688, KLD_Loss: 19.204379547119142\n",
            "Test Epoch : 4, Loss: 157.94416123046875, Recon_Loss: 138.2706375, KLD_Loss: 19.673523522949218\n",
            "Train Epoch: 0 [0/60000 (0%)]\tLoss: 1.621716\n",
            "Train Epoch: 0 [10000/60000 (17%)]\tLoss: 1.571713\n",
            "Train Epoch: 0 [20000/60000 (33%)]\tLoss: 1.614261\n",
            "Train Epoch: 0 [30000/60000 (50%)]\tLoss: 1.562926\n",
            "Train Epoch: 0 [40000/60000 (67%)]\tLoss: 1.609347\n",
            "Train Epoch: 0 [50000/60000 (83%)]\tLoss: 1.660165\n",
            "Train Epoch : 5, Loss: 157.70466349283853, Recon_Loss: 139.00484537760417, KLD_Loss: 18.69981810913086\n",
            "Test Epoch : 5, Loss: 157.07741904296876, Recon_Loss: 137.9214119140625, KLD_Loss: 19.156006811523437\n",
            "Train Epoch: 0 [0/60000 (0%)]\tLoss: 1.595705\n",
            "Train Epoch: 0 [10000/60000 (17%)]\tLoss: 1.611681\n",
            "Train Epoch: 0 [20000/60000 (33%)]\tLoss: 1.573399\n",
            "Train Epoch: 0 [30000/60000 (50%)]\tLoss: 1.569668\n",
            "Train Epoch: 0 [40000/60000 (67%)]\tLoss: 1.607167\n",
            "Train Epoch: 0 [50000/60000 (83%)]\tLoss: 1.604237\n",
            "Train Epoch : 6, Loss: 157.31329692382812, Recon_Loss: 138.33290981445313, KLD_Loss: 18.980387272135417\n",
            "Test Epoch : 6, Loss: 156.6593111328125, Recon_Loss: 137.28224248046874, KLD_Loss: 19.377069104003905\n",
            "Train Epoch: 0 [0/60000 (0%)]\tLoss: 1.502450\n",
            "Train Epoch: 0 [10000/60000 (17%)]\tLoss: 1.666216\n",
            "Train Epoch: 0 [20000/60000 (33%)]\tLoss: 1.544364\n",
            "Train Epoch: 0 [30000/60000 (50%)]\tLoss: 1.614807\n",
            "Train Epoch: 0 [40000/60000 (67%)]\tLoss: 1.584557\n",
            "Train Epoch: 0 [50000/60000 (83%)]\tLoss: 1.548073\n",
            "Train Epoch : 7, Loss: 156.75696083984374, Recon_Loss: 136.92218979492188, KLD_Loss: 19.834770827229818\n",
            "Test Epoch : 7, Loss: 156.15458974609376, Recon_Loss: 135.89504208984374, KLD_Loss: 20.259547875976562\n",
            "Train Epoch: 0 [0/60000 (0%)]\tLoss: 1.443456\n",
            "Train Epoch: 0 [10000/60000 (17%)]\tLoss: 1.544735\n",
            "Train Epoch: 0 [20000/60000 (33%)]\tLoss: 1.582985\n",
            "Train Epoch: 0 [30000/60000 (50%)]\tLoss: 1.609397\n",
            "Train Epoch: 0 [40000/60000 (67%)]\tLoss: 1.552453\n",
            "Train Epoch: 0 [50000/60000 (83%)]\tLoss: 1.522584\n",
            "Train Epoch : 8, Loss: 156.51261160481772, Recon_Loss: 137.10455524088542, KLD_Loss: 19.408056526692707\n",
            "Test Epoch : 8, Loss: 155.80999013671874, Recon_Loss: 135.9429150390625, KLD_Loss: 19.86707517089844\n",
            "Train Epoch: 0 [0/60000 (0%)]\tLoss: 1.573231\n",
            "Train Epoch: 0 [10000/60000 (17%)]\tLoss: 1.556118\n",
            "Train Epoch: 0 [20000/60000 (33%)]\tLoss: 1.643473\n",
            "Train Epoch: 0 [30000/60000 (50%)]\tLoss: 1.627672\n",
            "Train Epoch: 0 [40000/60000 (67%)]\tLoss: 1.523102\n",
            "Train Epoch: 0 [50000/60000 (83%)]\tLoss: 1.561153\n",
            "Train Epoch : 9, Loss: 156.02632867838543, Recon_Loss: 136.1623841796875, KLD_Loss: 19.86394467976888\n",
            "Test Epoch : 9, Loss: 155.387552734375, Recon_Loss: 135.095119140625, KLD_Loss: 20.292433764648436\n",
            "Train Epoch: 0 [0/60000 (0%)]\tLoss: 1.559853\n",
            "Train Epoch: 0 [10000/60000 (17%)]\tLoss: 1.617569\n",
            "Train Epoch: 0 [20000/60000 (33%)]\tLoss: 1.555754\n",
            "Train Epoch: 0 [30000/60000 (50%)]\tLoss: 1.583851\n",
            "Train Epoch: 0 [40000/60000 (67%)]\tLoss: 1.624357\n",
            "Train Epoch: 0 [50000/60000 (83%)]\tLoss: 1.619243\n",
            "Train Epoch : 10, Loss: 155.98047848307291, Recon_Loss: 136.83148828125, KLD_Loss: 19.14899026896159\n",
            "Test Epoch : 10, Loss: 155.633203125, Recon_Loss: 136.061825390625, KLD_Loss: 19.571377307128905\n",
            "Train Epoch: 0 [0/60000 (0%)]\tLoss: 1.482159\n",
            "Train Epoch: 0 [10000/60000 (17%)]\tLoss: 1.615319\n",
            "Train Epoch: 0 [20000/60000 (33%)]\tLoss: 1.574944\n",
            "Train Epoch: 0 [30000/60000 (50%)]\tLoss: 1.571515\n",
            "Train Epoch: 0 [40000/60000 (67%)]\tLoss: 1.517401\n",
            "Train Epoch: 0 [50000/60000 (83%)]\tLoss: 1.630087\n",
            "Train Epoch : 11, Loss: 155.85027338867187, Recon_Loss: 135.5964453125, KLD_Loss: 20.253828092447918\n",
            "Test Epoch : 11, Loss: 155.15627578125, Recon_Loss: 134.47491875, KLD_Loss: 20.681356555175782\n",
            "Train Epoch: 0 [0/60000 (0%)]\tLoss: 1.584621\n",
            "Train Epoch: 0 [10000/60000 (17%)]\tLoss: 1.597374\n",
            "Train Epoch: 0 [20000/60000 (33%)]\tLoss: 1.579356\n",
            "Train Epoch: 0 [30000/60000 (50%)]\tLoss: 1.571536\n",
            "Train Epoch: 0 [40000/60000 (67%)]\tLoss: 1.633906\n",
            "Train Epoch: 0 [50000/60000 (83%)]\tLoss: 1.603327\n",
            "Train Epoch : 12, Loss: 155.3666400390625, Recon_Loss: 135.8304970703125, KLD_Loss: 19.53614280802409\n",
            "Test Epoch : 12, Loss: 154.84628232421875, Recon_Loss: 134.90129755859374, KLD_Loss: 19.94498428955078\n",
            "Train Epoch: 0 [0/60000 (0%)]\tLoss: 1.628624\n",
            "Train Epoch: 0 [10000/60000 (17%)]\tLoss: 1.471152\n",
            "Train Epoch: 0 [20000/60000 (33%)]\tLoss: 1.547797\n",
            "Train Epoch: 0 [30000/60000 (50%)]\tLoss: 1.504781\n",
            "Train Epoch: 0 [40000/60000 (67%)]\tLoss: 1.559406\n",
            "Train Epoch: 0 [50000/60000 (83%)]\tLoss: 1.551647\n",
            "Train Epoch : 13, Loss: 155.20164537760417, Recon_Loss: 135.03160218098958, KLD_Loss: 20.17004313151042\n",
            "Test Epoch : 13, Loss: 154.683112109375, Recon_Loss: 134.1039990234375, KLD_Loss: 20.579112646484376\n",
            "Train Epoch: 0 [0/60000 (0%)]\tLoss: 1.556808\n",
            "Train Epoch: 0 [10000/60000 (17%)]\tLoss: 1.557116\n",
            "Train Epoch: 0 [20000/60000 (33%)]\tLoss: 1.553774\n",
            "Train Epoch: 0 [30000/60000 (50%)]\tLoss: 1.491936\n",
            "Train Epoch: 0 [40000/60000 (67%)]\tLoss: 1.590929\n",
            "Train Epoch: 0 [50000/60000 (83%)]\tLoss: 1.513445\n",
            "Train Epoch : 14, Loss: 155.08006708984374, Recon_Loss: 134.86665543619793, KLD_Loss: 20.213411857096354\n",
            "Test Epoch : 14, Loss: 154.6563509765625, Recon_Loss: 134.04445947265626, KLD_Loss: 20.611891357421875\n",
            "Train Epoch: 0 [0/60000 (0%)]\tLoss: 1.547776\n",
            "Train Epoch: 0 [10000/60000 (17%)]\tLoss: 1.544901\n",
            "Train Epoch: 0 [20000/60000 (33%)]\tLoss: 1.631816\n",
            "Train Epoch: 0 [30000/60000 (50%)]\tLoss: 1.530740\n",
            "Train Epoch: 0 [40000/60000 (67%)]\tLoss: 1.529123\n",
            "Train Epoch: 0 [50000/60000 (83%)]\tLoss: 1.531096\n",
            "Train Epoch : 15, Loss: 154.82879033203125, Recon_Loss: 134.55085227864583, KLD_Loss: 20.277938061523436\n",
            "Test Epoch : 15, Loss: 154.58228681640625, Recon_Loss: 133.88866240234375, KLD_Loss: 20.69362410888672\n",
            "Train Epoch: 0 [0/60000 (0%)]\tLoss: 1.529945\n",
            "Train Epoch: 0 [10000/60000 (17%)]\tLoss: 1.508789\n",
            "Train Epoch: 0 [20000/60000 (33%)]\tLoss: 1.546524\n",
            "Train Epoch: 0 [30000/60000 (50%)]\tLoss: 1.634003\n",
            "Train Epoch: 0 [40000/60000 (67%)]\tLoss: 1.555915\n",
            "Train Epoch: 0 [50000/60000 (83%)]\tLoss: 1.537309\n",
            "Train Epoch : 16, Loss: 154.65975799153645, Recon_Loss: 134.5314407877604, KLD_Loss: 20.12831681315104\n",
            "Test Epoch : 16, Loss: 154.1769712890625, Recon_Loss: 133.70018583984375, KLD_Loss: 20.47678537597656\n",
            "Train Epoch: 0 [0/60000 (0%)]\tLoss: 1.583152\n",
            "Train Epoch: 0 [10000/60000 (17%)]\tLoss: 1.468996\n",
            "Train Epoch: 0 [20000/60000 (33%)]\tLoss: 1.569793\n",
            "Train Epoch: 0 [30000/60000 (50%)]\tLoss: 1.586443\n",
            "Train Epoch: 0 [40000/60000 (67%)]\tLoss: 1.495669\n",
            "Train Epoch: 0 [50000/60000 (83%)]\tLoss: 1.601949\n",
            "Train Epoch : 17, Loss: 154.64529762369793, Recon_Loss: 134.72450802408855, KLD_Loss: 19.9207898050944\n",
            "Test Epoch : 17, Loss: 154.3285443359375, Recon_Loss: 134.02906533203125, KLD_Loss: 20.29947930908203\n",
            "Train Epoch: 0 [0/60000 (0%)]\tLoss: 1.534466\n",
            "Train Epoch: 0 [10000/60000 (17%)]\tLoss: 1.597504\n",
            "Train Epoch: 0 [20000/60000 (33%)]\tLoss: 1.509800\n",
            "Train Epoch: 0 [30000/60000 (50%)]\tLoss: 1.648841\n",
            "Train Epoch: 0 [40000/60000 (67%)]\tLoss: 1.559389\n",
            "Train Epoch: 0 [50000/60000 (83%)]\tLoss: 1.530882\n",
            "Train Epoch : 18, Loss: 154.35280927734374, Recon_Loss: 134.04290595703125, KLD_Loss: 20.309903228759765\n",
            "Test Epoch : 18, Loss: 154.0145021484375, Recon_Loss: 133.3259107421875, KLD_Loss: 20.688591174316407\n",
            "Train Epoch: 0 [0/60000 (0%)]\tLoss: 1.573134\n",
            "Train Epoch: 0 [10000/60000 (17%)]\tLoss: 1.546977\n",
            "Train Epoch: 0 [20000/60000 (33%)]\tLoss: 1.551890\n",
            "Train Epoch: 0 [30000/60000 (50%)]\tLoss: 1.541515\n",
            "Train Epoch: 0 [40000/60000 (67%)]\tLoss: 1.441441\n",
            "Train Epoch: 0 [50000/60000 (83%)]\tLoss: 1.573100\n",
            "Train Epoch : 19, Loss: 154.41874104817708, Recon_Loss: 133.72890896809895, KLD_Loss: 20.689832135009766\n",
            "Test Epoch : 19, Loss: 153.97128515625, Recon_Loss: 132.8807984375, KLD_Loss: 21.090486645507813\n",
            "Train Epoch: 0 [0/60000 (0%)]\tLoss: 1.626452\n",
            "Train Epoch: 0 [10000/60000 (17%)]\tLoss: 1.541522\n",
            "Train Epoch: 0 [20000/60000 (33%)]\tLoss: 1.574375\n",
            "Train Epoch: 0 [30000/60000 (50%)]\tLoss: 1.583231\n",
            "Train Epoch: 0 [40000/60000 (67%)]\tLoss: 1.594100\n",
            "Train Epoch: 0 [50000/60000 (83%)]\tLoss: 1.629346\n",
            "Train Epoch : 20, Loss: 154.3207624674479, Recon_Loss: 134.40198188476563, KLD_Loss: 19.918780682373047\n",
            "Test Epoch : 20, Loss: 153.70810791015626, Recon_Loss: 133.46237177734375, KLD_Loss: 20.245736206054687\n",
            "Train Epoch: 0 [0/60000 (0%)]\tLoss: 1.490629\n",
            "Train Epoch: 0 [10000/60000 (17%)]\tLoss: 1.598712\n",
            "Train Epoch: 0 [20000/60000 (33%)]\tLoss: 1.527256\n",
            "Train Epoch: 0 [30000/60000 (50%)]\tLoss: 1.559863\n",
            "Train Epoch: 0 [40000/60000 (67%)]\tLoss: 1.487669\n",
            "Train Epoch: 0 [50000/60000 (83%)]\tLoss: 1.542612\n",
            "Train Epoch : 21, Loss: 154.03769611002605, Recon_Loss: 134.00333570963542, KLD_Loss: 20.034360540771484\n",
            "Test Epoch : 21, Loss: 153.7579736328125, Recon_Loss: 133.405796484375, KLD_Loss: 20.352178039550783\n",
            "Train Epoch: 0 [0/60000 (0%)]\tLoss: 1.533282\n",
            "Train Epoch: 0 [10000/60000 (17%)]\tLoss: 1.581082\n",
            "Train Epoch: 0 [20000/60000 (33%)]\tLoss: 1.525073\n",
            "Train Epoch: 0 [30000/60000 (50%)]\tLoss: 1.593176\n",
            "Train Epoch: 0 [40000/60000 (67%)]\tLoss: 1.579629\n",
            "Train Epoch: 0 [50000/60000 (83%)]\tLoss: 1.603123\n",
            "Train Epoch : 22, Loss: 154.14546520182293, Recon_Loss: 134.33632369791667, KLD_Loss: 19.809141621907553\n",
            "Test Epoch : 22, Loss: 153.6631150390625, Recon_Loss: 133.44679267578124, KLD_Loss: 20.216321667480468\n",
            "Train Epoch: 0 [0/60000 (0%)]\tLoss: 1.508889\n",
            "Train Epoch: 0 [10000/60000 (17%)]\tLoss: 1.559956\n",
            "Train Epoch: 0 [20000/60000 (33%)]\tLoss: 1.446378\n",
            "Train Epoch: 0 [30000/60000 (50%)]\tLoss: 1.551719\n",
            "Train Epoch: 0 [40000/60000 (67%)]\tLoss: 1.573454\n",
            "Train Epoch: 0 [50000/60000 (83%)]\tLoss: 1.494001\n",
            "Train Epoch : 23, Loss: 153.8989055013021, Recon_Loss: 133.43091245117188, KLD_Loss: 20.467993192545574\n",
            "Test Epoch : 23, Loss: 153.3966265625, Recon_Loss: 132.56409619140624, KLD_Loss: 20.832530041503905\n",
            "Train Epoch: 0 [0/60000 (0%)]\tLoss: 1.624905\n",
            "Train Epoch: 0 [10000/60000 (17%)]\tLoss: 1.469254\n",
            "Train Epoch: 0 [20000/60000 (33%)]\tLoss: 1.511718\n",
            "Train Epoch: 0 [30000/60000 (50%)]\tLoss: 1.571998\n",
            "Train Epoch: 0 [40000/60000 (67%)]\tLoss: 1.505358\n",
            "Train Epoch: 0 [50000/60000 (83%)]\tLoss: 1.486184\n",
            "Train Epoch : 24, Loss: 153.9265591796875, Recon_Loss: 133.623143359375, KLD_Loss: 20.303416056315104\n",
            "Test Epoch : 24, Loss: 153.6312673828125, Recon_Loss: 133.00063828125, KLD_Loss: 20.630629345703124\n",
            "Train Epoch: 0 [0/60000 (0%)]\tLoss: 1.540949\n",
            "Train Epoch: 0 [10000/60000 (17%)]\tLoss: 1.563583\n",
            "Train Epoch: 0 [20000/60000 (33%)]\tLoss: 1.438866\n",
            "Train Epoch: 0 [30000/60000 (50%)]\tLoss: 1.584501\n",
            "Train Epoch: 0 [40000/60000 (67%)]\tLoss: 1.513042\n",
            "Train Epoch: 0 [50000/60000 (83%)]\tLoss: 1.560419\n",
            "Train Epoch : 25, Loss: 154.00662928059896, Recon_Loss: 132.91557180989582, KLD_Loss: 21.091057495117187\n",
            "Test Epoch : 25, Loss: 153.233719921875, Recon_Loss: 131.77516875, KLD_Loss: 21.45855137939453\n",
            "Train Epoch: 0 [0/60000 (0%)]\tLoss: 1.597578\n",
            "Train Epoch: 0 [10000/60000 (17%)]\tLoss: 1.563863\n",
            "Train Epoch: 0 [20000/60000 (33%)]\tLoss: 1.562614\n",
            "Train Epoch: 0 [30000/60000 (50%)]\tLoss: 1.556652\n",
            "Train Epoch: 0 [40000/60000 (67%)]\tLoss: 1.505387\n",
            "Train Epoch: 0 [50000/60000 (83%)]\tLoss: 1.449838\n",
            "Train Epoch : 26, Loss: 153.98607880859376, Recon_Loss: 133.3668846028646, KLD_Loss: 20.61919408569336\n",
            "Test Epoch : 26, Loss: 153.3349044921875, Recon_Loss: 132.3911892578125, KLD_Loss: 20.943714721679687\n",
            "Train Epoch: 0 [0/60000 (0%)]\tLoss: 1.467791\n",
            "Train Epoch: 0 [10000/60000 (17%)]\tLoss: 1.535191\n",
            "Train Epoch: 0 [20000/60000 (33%)]\tLoss: 1.471794\n",
            "Train Epoch: 0 [30000/60000 (50%)]\tLoss: 1.498119\n",
            "Train Epoch: 0 [40000/60000 (67%)]\tLoss: 1.582108\n",
            "Train Epoch: 0 [50000/60000 (83%)]\tLoss: 1.536077\n",
            "Train Epoch : 27, Loss: 153.97437493489582, Recon_Loss: 133.1921957845052, KLD_Loss: 20.782179154459634\n",
            "Test Epoch : 27, Loss: 153.4076599609375, Recon_Loss: 132.26470126953126, KLD_Loss: 21.142958642578126\n",
            "Train Epoch: 0 [0/60000 (0%)]\tLoss: 1.524093\n",
            "Train Epoch: 0 [10000/60000 (17%)]\tLoss: 1.613378\n",
            "Train Epoch: 0 [20000/60000 (33%)]\tLoss: 1.556757\n",
            "Train Epoch: 0 [30000/60000 (50%)]\tLoss: 1.507321\n",
            "Train Epoch: 0 [40000/60000 (67%)]\tLoss: 1.652193\n",
            "Train Epoch: 0 [50000/60000 (83%)]\tLoss: 1.507055\n",
            "Train Epoch : 28, Loss: 153.4533940266927, Recon_Loss: 133.38360349934896, KLD_Loss: 20.06979072265625\n",
            "Test Epoch : 28, Loss: 153.01757568359375, Recon_Loss: 132.60039072265624, KLD_Loss: 20.417184936523437\n",
            "Train Epoch: 0 [0/60000 (0%)]\tLoss: 1.533773\n",
            "Train Epoch: 0 [10000/60000 (17%)]\tLoss: 1.525301\n",
            "Train Epoch: 0 [20000/60000 (33%)]\tLoss: 1.537296\n",
            "Train Epoch: 0 [30000/60000 (50%)]\tLoss: 1.591917\n",
            "Train Epoch: 0 [40000/60000 (67%)]\tLoss: 1.527673\n",
            "Train Epoch: 0 [50000/60000 (83%)]\tLoss: 1.470162\n",
            "Train Epoch : 29, Loss: 153.65505771484376, Recon_Loss: 133.81496393229168, KLD_Loss: 19.840093815104165\n",
            "Test Epoch : 29, Loss: 153.4959501953125, Recon_Loss: 133.35212119140624, KLD_Loss: 20.143829296875\n",
            "Train Epoch: 0 [0/60000 (0%)]\tLoss: 1.542365\n",
            "Train Epoch: 0 [10000/60000 (17%)]\tLoss: 1.492698\n",
            "Train Epoch: 0 [20000/60000 (33%)]\tLoss: 1.504321\n",
            "Train Epoch: 0 [30000/60000 (50%)]\tLoss: 1.497527\n",
            "Train Epoch: 0 [40000/60000 (67%)]\tLoss: 1.569418\n",
            "Train Epoch: 0 [50000/60000 (83%)]\tLoss: 1.501459\n",
            "Train Epoch : 30, Loss: 153.66463168945313, Recon_Loss: 132.50417682291666, KLD_Loss: 21.16045474650065\n",
            "Test Epoch : 30, Loss: 153.3772318359375, Recon_Loss: 131.850965234375, KLD_Loss: 21.526266723632812\n",
            "Train Epoch: 0 [0/60000 (0%)]\tLoss: 1.548987\n",
            "Train Epoch: 0 [10000/60000 (17%)]\tLoss: 1.558658\n",
            "Train Epoch: 0 [20000/60000 (33%)]\tLoss: 1.541833\n",
            "Train Epoch: 0 [30000/60000 (50%)]\tLoss: 1.592783\n",
            "Train Epoch: 0 [40000/60000 (67%)]\tLoss: 1.539447\n",
            "Train Epoch: 0 [50000/60000 (83%)]\tLoss: 1.565098\n",
            "Train Epoch : 31, Loss: 153.4860671875, Recon_Loss: 132.4861413736979, KLD_Loss: 20.99992573445638\n",
            "Test Epoch : 31, Loss: 153.21078623046876, Recon_Loss: 131.9030392578125, KLD_Loss: 21.307746838378907\n",
            "Train Epoch: 0 [0/60000 (0%)]\tLoss: 1.521665\n",
            "Train Epoch: 0 [10000/60000 (17%)]\tLoss: 1.469658\n",
            "Train Epoch: 0 [20000/60000 (33%)]\tLoss: 1.538292\n",
            "Train Epoch: 0 [30000/60000 (50%)]\tLoss: 1.468894\n",
            "Train Epoch: 0 [40000/60000 (67%)]\tLoss: 1.537294\n",
            "Train Epoch: 0 [50000/60000 (83%)]\tLoss: 1.505836\n",
            "Train Epoch : 32, Loss: 153.39288430989583, Recon_Loss: 132.98860131835937, KLD_Loss: 20.40428304239909\n",
            "Test Epoch : 32, Loss: 153.13241806640625, Recon_Loss: 132.44106728515624, KLD_Loss: 20.691350756835938\n",
            "Train Epoch: 0 [0/60000 (0%)]\tLoss: 1.508662\n",
            "Train Epoch: 0 [10000/60000 (17%)]\tLoss: 1.512636\n",
            "Train Epoch: 0 [20000/60000 (33%)]\tLoss: 1.528884\n",
            "Train Epoch: 0 [30000/60000 (50%)]\tLoss: 1.536249\n",
            "Train Epoch: 0 [40000/60000 (67%)]\tLoss: 1.560424\n",
            "Train Epoch: 0 [50000/60000 (83%)]\tLoss: 1.487760\n",
            "Train Epoch : 33, Loss: 153.7621244140625, Recon_Loss: 133.320690625, KLD_Loss: 20.441433799235025\n",
            "Test Epoch : 33, Loss: 153.62944658203125, Recon_Loss: 132.86121796875, KLD_Loss: 20.768228649902344\n",
            "Train Epoch: 0 [0/60000 (0%)]\tLoss: 1.467175\n",
            "Train Epoch: 0 [10000/60000 (17%)]\tLoss: 1.573878\n",
            "Train Epoch: 0 [20000/60000 (33%)]\tLoss: 1.508842\n",
            "Train Epoch: 0 [30000/60000 (50%)]\tLoss: 1.568636\n",
            "Train Epoch: 0 [40000/60000 (67%)]\tLoss: 1.548414\n",
            "Train Epoch: 0 [50000/60000 (83%)]\tLoss: 1.557336\n",
            "Train Epoch : 34, Loss: 153.41366875, Recon_Loss: 132.47292473958333, KLD_Loss: 20.940744150797524\n",
            "Test Epoch : 34, Loss: 153.09961591796875, Recon_Loss: 131.80700390625, KLD_Loss: 21.292612036132812\n",
            "Train Epoch: 0 [0/60000 (0%)]\tLoss: 1.525911\n",
            "Train Epoch: 0 [10000/60000 (17%)]\tLoss: 1.633071\n",
            "Train Epoch: 0 [20000/60000 (33%)]\tLoss: 1.558878\n",
            "Train Epoch: 0 [30000/60000 (50%)]\tLoss: 1.561882\n",
            "Train Epoch: 0 [40000/60000 (67%)]\tLoss: 1.608929\n",
            "Train Epoch: 0 [50000/60000 (83%)]\tLoss: 1.575345\n",
            "Train Epoch : 35, Loss: 153.70034235026043, Recon_Loss: 132.89650818684896, KLD_Loss: 20.803834147135415\n",
            "Test Epoch : 35, Loss: 153.4054595703125, Recon_Loss: 132.2715263671875, KLD_Loss: 21.133933044433594\n",
            "Train Epoch: 0 [0/60000 (0%)]\tLoss: 1.566219\n",
            "Train Epoch: 0 [10000/60000 (17%)]\tLoss: 1.502641\n",
            "Train Epoch: 0 [20000/60000 (33%)]\tLoss: 1.535847\n",
            "Train Epoch: 0 [30000/60000 (50%)]\tLoss: 1.526909\n",
            "Train Epoch: 0 [40000/60000 (67%)]\tLoss: 1.490096\n",
            "Train Epoch: 0 [50000/60000 (83%)]\tLoss: 1.487932\n",
            "Train Epoch : 36, Loss: 153.25251168619792, Recon_Loss: 132.59861121419272, KLD_Loss: 20.653900563557944\n",
            "Test Epoch : 36, Loss: 152.6771666015625, Recon_Loss: 131.6982033203125, KLD_Loss: 20.978963220214844\n",
            "Train Epoch: 0 [0/60000 (0%)]\tLoss: 1.529752\n",
            "Train Epoch: 0 [10000/60000 (17%)]\tLoss: 1.575687\n",
            "Train Epoch: 0 [20000/60000 (33%)]\tLoss: 1.529783\n",
            "Train Epoch: 0 [30000/60000 (50%)]\tLoss: 1.426675\n",
            "Train Epoch: 0 [40000/60000 (67%)]\tLoss: 1.517764\n",
            "Train Epoch: 0 [50000/60000 (83%)]\tLoss: 1.523649\n",
            "Train Epoch : 37, Loss: 153.31825167643228, Recon_Loss: 132.30131087239585, KLD_Loss: 21.016940856933594\n",
            "Test Epoch : 37, Loss: 152.61456201171876, Recon_Loss: 131.351729296875, KLD_Loss: 21.26283259277344\n",
            "Train Epoch: 0 [0/60000 (0%)]\tLoss: 1.559756\n",
            "Train Epoch: 0 [10000/60000 (17%)]\tLoss: 1.523034\n",
            "Train Epoch: 0 [20000/60000 (33%)]\tLoss: 1.547715\n",
            "Train Epoch: 0 [30000/60000 (50%)]\tLoss: 1.496224\n",
            "Train Epoch: 0 [40000/60000 (67%)]\tLoss: 1.587972\n",
            "Train Epoch: 0 [50000/60000 (83%)]\tLoss: 1.523585\n",
            "Train Epoch : 38, Loss: 153.1228317220052, Recon_Loss: 132.6853626627604, KLD_Loss: 20.43746918334961\n",
            "Test Epoch : 38, Loss: 153.0315208984375, Recon_Loss: 132.32731181640625, KLD_Loss: 20.704209313964842\n",
            "Train Epoch: 0 [0/60000 (0%)]\tLoss: 1.513868\n",
            "Train Epoch: 0 [10000/60000 (17%)]\tLoss: 1.498391\n",
            "Train Epoch: 0 [20000/60000 (33%)]\tLoss: 1.413279\n",
            "Train Epoch: 0 [30000/60000 (50%)]\tLoss: 1.535385\n",
            "Train Epoch: 0 [40000/60000 (67%)]\tLoss: 1.545914\n",
            "Train Epoch: 0 [50000/60000 (83%)]\tLoss: 1.526276\n",
            "Train Epoch : 39, Loss: 153.2610026204427, Recon_Loss: 133.00121472981772, KLD_Loss: 20.259787813313803\n",
            "Test Epoch : 39, Loss: 152.9099568359375, Recon_Loss: 132.3925048828125, KLD_Loss: 20.517452111816407\n",
            "Train Epoch: 0 [0/60000 (0%)]\tLoss: 1.505939\n",
            "Train Epoch: 0 [10000/60000 (17%)]\tLoss: 1.558506\n",
            "Train Epoch: 0 [20000/60000 (33%)]\tLoss: 1.585961\n",
            "Train Epoch: 0 [30000/60000 (50%)]\tLoss: 1.479316\n",
            "Train Epoch: 0 [40000/60000 (67%)]\tLoss: 1.557741\n",
            "Train Epoch: 0 [50000/60000 (83%)]\tLoss: 1.558914\n",
            "Train Epoch : 40, Loss: 153.15563515625, Recon_Loss: 132.6072505045573, KLD_Loss: 20.548384729003907\n",
            "Test Epoch : 40, Loss: 152.81252880859375, Recon_Loss: 132.0283697265625, KLD_Loss: 20.784159020996093\n",
            "Train Epoch: 0 [0/60000 (0%)]\tLoss: 1.499312\n",
            "Train Epoch: 0 [10000/60000 (17%)]\tLoss: 1.526690\n",
            "Train Epoch: 0 [20000/60000 (33%)]\tLoss: 1.567674\n",
            "Train Epoch: 0 [30000/60000 (50%)]\tLoss: 1.495927\n",
            "Train Epoch: 0 [40000/60000 (67%)]\tLoss: 1.485804\n",
            "Train Epoch: 0 [50000/60000 (83%)]\tLoss: 1.475348\n",
            "Train Epoch : 41, Loss: 153.06592998046875, Recon_Loss: 132.7309285970052, KLD_Loss: 20.335001513671877\n",
            "Test Epoch : 41, Loss: 153.195932421875, Recon_Loss: 132.54858056640626, KLD_Loss: 20.647351928710936\n",
            "Train Epoch: 0 [0/60000 (0%)]\tLoss: 1.619013\n",
            "Train Epoch: 0 [10000/60000 (17%)]\tLoss: 1.537144\n",
            "Train Epoch: 0 [20000/60000 (33%)]\tLoss: 1.539195\n",
            "Train Epoch: 0 [30000/60000 (50%)]\tLoss: 1.544752\n",
            "Train Epoch: 0 [40000/60000 (67%)]\tLoss: 1.691910\n",
            "Train Epoch: 0 [50000/60000 (83%)]\tLoss: 1.584792\n",
            "Train Epoch : 42, Loss: 152.9796109375, Recon_Loss: 132.24181619466145, KLD_Loss: 20.73779455973307\n",
            "Test Epoch : 42, Loss: 152.5615828125, Recon_Loss: 131.5403271484375, KLD_Loss: 21.021256079101562\n",
            "Train Epoch: 0 [0/60000 (0%)]\tLoss: 1.439297\n",
            "Train Epoch: 0 [10000/60000 (17%)]\tLoss: 1.531530\n",
            "Train Epoch: 0 [20000/60000 (33%)]\tLoss: 1.537173\n",
            "Train Epoch: 0 [30000/60000 (50%)]\tLoss: 1.559655\n",
            "Train Epoch: 0 [40000/60000 (67%)]\tLoss: 1.486904\n",
            "Train Epoch: 0 [50000/60000 (83%)]\tLoss: 1.506385\n",
            "Train Epoch : 43, Loss: 152.93064583333333, Recon_Loss: 132.15872552083334, KLD_Loss: 20.771920487467447\n",
            "Test Epoch : 43, Loss: 152.30174482421876, Recon_Loss: 131.270173828125, KLD_Loss: 21.031571020507812\n",
            "Train Epoch: 0 [0/60000 (0%)]\tLoss: 1.469675\n",
            "Train Epoch: 0 [10000/60000 (17%)]\tLoss: 1.490316\n",
            "Train Epoch: 0 [20000/60000 (33%)]\tLoss: 1.526771\n",
            "Train Epoch: 0 [30000/60000 (50%)]\tLoss: 1.536211\n",
            "Train Epoch: 0 [40000/60000 (67%)]\tLoss: 1.546712\n",
            "Train Epoch: 0 [50000/60000 (83%)]\tLoss: 1.555400\n",
            "Train Epoch : 44, Loss: 152.85330083007813, Recon_Loss: 132.49011591796875, KLD_Loss: 20.363184733072917\n",
            "Test Epoch : 44, Loss: 152.604346484375, Recon_Loss: 131.9310671875, KLD_Loss: 20.673279431152345\n",
            "Train Epoch: 0 [0/60000 (0%)]\tLoss: 1.570901\n",
            "Train Epoch: 0 [10000/60000 (17%)]\tLoss: 1.558087\n",
            "Train Epoch: 0 [20000/60000 (33%)]\tLoss: 1.535555\n",
            "Train Epoch: 0 [30000/60000 (50%)]\tLoss: 1.561372\n",
            "Train Epoch: 0 [40000/60000 (67%)]\tLoss: 1.441335\n",
            "Train Epoch: 0 [50000/60000 (83%)]\tLoss: 1.539140\n",
            "Train Epoch : 45, Loss: 153.1344727376302, Recon_Loss: 131.8165311686198, KLD_Loss: 21.317941571044923\n",
            "Test Epoch : 45, Loss: 152.91609697265625, Recon_Loss: 131.34130302734374, KLD_Loss: 21.574793615722655\n",
            "Train Epoch: 0 [0/60000 (0%)]\tLoss: 1.641713\n",
            "Train Epoch: 0 [10000/60000 (17%)]\tLoss: 1.433385\n",
            "Train Epoch: 0 [20000/60000 (33%)]\tLoss: 1.519940\n",
            "Train Epoch: 0 [30000/60000 (50%)]\tLoss: 1.516622\n",
            "Train Epoch: 0 [40000/60000 (67%)]\tLoss: 1.463762\n",
            "Train Epoch: 0 [50000/60000 (83%)]\tLoss: 1.472840\n",
            "Train Epoch : 46, Loss: 152.88287361653647, Recon_Loss: 131.93576031901043, KLD_Loss: 20.9471135538737\n",
            "Test Epoch : 46, Loss: 152.267310546875, Recon_Loss: 131.01438896484376, KLD_Loss: 21.252921350097655\n",
            "Train Epoch: 0 [0/60000 (0%)]\tLoss: 1.553700\n",
            "Train Epoch: 0 [10000/60000 (17%)]\tLoss: 1.560429\n",
            "Train Epoch: 0 [20000/60000 (33%)]\tLoss: 1.560037\n",
            "Train Epoch: 0 [30000/60000 (50%)]\tLoss: 1.545285\n",
            "Train Epoch: 0 [40000/60000 (67%)]\tLoss: 1.532036\n",
            "Train Epoch: 0 [50000/60000 (83%)]\tLoss: 1.557213\n",
            "Train Epoch : 47, Loss: 152.99454770507813, Recon_Loss: 132.57782970377605, KLD_Loss: 20.416718013509115\n",
            "Test Epoch : 47, Loss: 152.55918017578125, Recon_Loss: 131.9201671875, KLD_Loss: 20.639012902832032\n",
            "Train Epoch: 0 [0/60000 (0%)]\tLoss: 1.557128\n",
            "Train Epoch: 0 [10000/60000 (17%)]\tLoss: 1.487349\n",
            "Train Epoch: 0 [20000/60000 (33%)]\tLoss: 1.629321\n",
            "Train Epoch: 0 [30000/60000 (50%)]\tLoss: 1.484911\n",
            "Train Epoch: 0 [40000/60000 (67%)]\tLoss: 1.574652\n",
            "Train Epoch: 0 [50000/60000 (83%)]\tLoss: 1.522696\n",
            "Train Epoch : 48, Loss: 152.73792875976562, Recon_Loss: 132.01754951171876, KLD_Loss: 20.720379374186198\n",
            "Test Epoch : 48, Loss: 152.243398828125, Recon_Loss: 131.267403125, KLD_Loss: 20.975995166015625\n",
            "Train Epoch: 0 [0/60000 (0%)]\tLoss: 1.524058\n",
            "Train Epoch: 0 [10000/60000 (17%)]\tLoss: 1.564483\n",
            "Train Epoch: 0 [20000/60000 (33%)]\tLoss: 1.534060\n",
            "Train Epoch: 0 [30000/60000 (50%)]\tLoss: 1.550706\n",
            "Train Epoch: 0 [40000/60000 (67%)]\tLoss: 1.545068\n",
            "Train Epoch: 0 [50000/60000 (83%)]\tLoss: 1.482622\n",
            "Train Epoch : 49, Loss: 153.06824892578126, Recon_Loss: 132.27401349283855, KLD_Loss: 20.79423550008138\n",
            "Test Epoch : 49, Loss: 152.7469408203125, Recon_Loss: 131.68728955078126, KLD_Loss: 21.059651428222658\n",
            "Train Epoch: 0 [0/60000 (0%)]\tLoss: 1.419329\n",
            "Train Epoch: 0 [10000/60000 (17%)]\tLoss: 1.524646\n",
            "Train Epoch: 0 [20000/60000 (33%)]\tLoss: 1.487767\n",
            "Train Epoch: 0 [30000/60000 (50%)]\tLoss: 1.566089\n",
            "Train Epoch: 0 [40000/60000 (67%)]\tLoss: 1.458543\n",
            "Train Epoch: 0 [50000/60000 (83%)]\tLoss: 1.440365\n",
            "Train Epoch : 50, Loss: 152.71663391927083, Recon_Loss: 132.1900352376302, KLD_Loss: 20.526598795572916\n",
            "Test Epoch : 50, Loss: 152.44703701171875, Recon_Loss: 131.7181076171875, KLD_Loss: 20.72892911376953\n"
          ],
          "name": "stdout"
        }
      ]
    },
    {
      "cell_type": "markdown",
      "metadata": {
        "id": "p5df0Zrfrs0J",
        "colab_type": "text"
      },
      "source": [
        "## VAE Reconstruction"
      ]
    },
    {
      "cell_type": "code",
      "metadata": {
        "id": "TJFN-9RzY45U",
        "colab_type": "code",
        "outputId": "dba58be2-62c4-4663-bf7c-a1ef269051bd",
        "colab": {
          "base_uri": "https://localhost:8080/",
          "height": 302
        }
      },
      "source": [
        "# nw = VAEWrapper(vae, 0.001)\n",
        "\n",
        "# nw.infer_data(test_dataset[10][0])\n",
        "from matplotlib import gridspec\n",
        "\n",
        "def plot_grid(data, index_list, sample_size):\n",
        "  # f, axarr = plt.subplots(sample_size, len(index_list))\n",
        "  gs = gridspec.GridSpec(sample_size, len(index_list), width_ratios=[1 for k in range(len(index_list))],\n",
        "         wspace=0.1, hspace=0.1) \n",
        "\n",
        "  for i, index in enumerate(index_list):\n",
        "    sample = data[index][0][:sample_size, :, :]\n",
        "    for s_index in range(sample_size):\n",
        "      #axarr[s_index, i].imshow(sample[s_index, :, :])\n",
        "      plt.subplot(gs[s_index, i]).imshow(sample[s_index, :, :])\n",
        "      plt.subplot(gs[s_index, i]).axis('off')\n",
        "  \n",
        "  plt.axis('off')\n",
        "  plt.show()\n",
        "\n",
        "\n",
        "plot_grid(nw.infer_out, [1,5,15, 20, 25, 30], 6)\n",
        "\n"
      ],
      "execution_count": 0,
      "outputs": [
        {
          "output_type": "stream",
          "text": [
            "/usr/local/lib/python3.6/dist-packages/ipykernel_launcher.py:13: MatplotlibDeprecationWarning: Adding an axes using the same arguments as a previous axes currently reuses the earlier instance.  In a future version, a new instance will always be created and returned.  Meanwhile, this warning can be suppressed, and the future behavior ensured, by passing a unique label to each axes instance.\n",
            "  del sys.path[0]\n"
          ],
          "name": "stderr"
        },
        {
          "output_type": "display_data",
          "data": {
            "image/png": "[encoded data removed]",
            "text/plain": [
              "<Figure size 432x288 with 36 Axes>"
            ]
          },
          "metadata": {
            "tags": []
          }
        }
      ]
    },
    {
      "cell_type": "markdown",
      "metadata": {
        "id": "cFIk-avEZag5",
        "colab_type": "text"
      },
      "source": [
        "# 2.2 DCGAN"
      ]
    },
    {
      "cell_type": "markdown",
      "metadata": {
        "id": "SOdYk0hTZetS",
        "colab_type": "text"
      },
      "source": [
        "# 3 CIS GAN"
      ]
    },
    {
      "cell_type": "markdown",
      "metadata": {
        "id": "eXG3cT9LaJlg",
        "colab_type": "text"
      },
      "source": [
        "## Data set"
      ]
    },
    {
      "cell_type": "code",
      "metadata": {
        "id": "Q0SoMZMbaJRQ",
        "colab_type": "code",
        "colab": {}
      },
      "source": [
        "class CISDataset():\n",
        "  def __init__(self, input_path):\n",
        "    load_data = np.load(input_path)\n",
        "    self.data = load_data['arr_0'] / 255.0\n",
        "    self.length = self.data.shape[0]\n",
        "    del load_data\n",
        "  \n",
        "  def __len__(self):\n",
        "    return self.length \n",
        "  \n",
        "  def __getitem__(self, index):\n",
        "    image = self.data[index, :, :, :]\n",
        "    down_sample_image = resize(image, (16, 16))\n",
        "    up_sample_image = resize(down_sample_image, (64, 64))\n",
        "    trans_image, trans_blur = np.moveaxis(image, -1, 0), np.moveaxis(up_sample_image, -1, 0)\n",
        "    return trans_image, trans_blur\n",
        "\n",
        "def custom_collate(batch):\n",
        "  return default_collate(batch)\n"
      ],
      "execution_count": 0,
      "outputs": []
    },
    {
      "cell_type": "code",
      "metadata": {
        "id": "JQkZYLllcwQB",
        "colab_type": "code",
        "colab": {}
      },
      "source": [
        "cis_train_data_set = CISDataset('train.npz')\n",
        "cis_test_data_set = CISDataset('test.npz')\n",
        "\n",
        "cis_train_data_loader = DataLoader(cis_train_data_set, collate_fn=custom_collate, batch_size=10, shuffle=True)\n",
        "cis_test_data_loader = DataLoader(cis_test_data_set, collate_fn=custom_collate, batch_size=10, shuffle=True)\n"
      ],
      "execution_count": 0,
      "outputs": []
    },
    {
      "cell_type": "code",
      "metadata": {
        "id": "V-Z_nmDOdDsG",
        "colab_type": "code",
        "colab": {}
      },
      "source": [
        "image, blur = cis_train_data_set[8]\n",
        "\n",
        "plt.imshow(np.moveaxis(image, 0, -1))\n",
        "plt.show()\n",
        "plt.imshow(np.moveaxis(blur, 0, -1))\n",
        "plt.show()\n"
      ],
      "execution_count": 0,
      "outputs": []
    },
    {
      "cell_type": "markdown",
      "metadata": {
        "id": "nI4ZRjmGfLY4",
        "colab_type": "text"
      },
      "source": [
        "## CIS Model Definition"
      ]
    },
    {
      "cell_type": "code",
      "metadata": {
        "id": "4Uf4o2bqfIlA",
        "colab_type": "code",
        "outputId": "7c9e8e2a-6948-4278-e81d-55d7506b17f8",
        "colab": {
          "base_uri": "https://localhost:8080/",
          "height": 34
        }
      },
      "source": [
        "class CISEncoder(torch.nn.Module):\n",
        "\n",
        "  def __init__(self):\n",
        "    super().__init__()\n",
        "    self.layer1 = nn.Sequential(nn.Conv2d(3, 32, 4, stride=2, padding=1), nn.BatchNorm2d(32), nn.LeakyReLU())\n",
        "    self.layer2 = nn.Sequential(nn.Conv2d(32, 64, 4, stride=2, padding=1), nn.BatchNorm2d(64), nn.LeakyReLU())\n",
        "    self.layer3 = nn.Sequential(nn.Conv2d(64, 128, 4, stride=2, padding=1), nn.BatchNorm2d(128), nn.LeakyReLU())\n",
        "    self.layer4 = nn.Sequential(nn.Conv2d(128, 256, 4, stride=2, padding=1), nn.BatchNorm2d(256), nn.LeakyReLU())\n",
        "    self.layer5 = nn.Sequential(nn.Conv2d(256, 512, 4, stride=2, padding=1), nn.BatchNorm2d(512), nn.LeakyReLU())\n",
        "  \n",
        "  def forward(self, X):\n",
        "    l1_out = self.layer1(X)\n",
        "    l2_out = self.layer2(l1_out)\n",
        "    l3_out = self.layer3(l2_out)\n",
        "    l4_out = self.layer4(l3_out)\n",
        "    l5_out = self.layer5(l4_out)\n",
        "    return (l1_out, l2_out, l3_out, l4_out, l5_out)\n",
        "\n",
        "class CISDecoder(torch.nn.Module):\n",
        "  def __init__(self):\n",
        "    super().__init__()\n",
        "    self.layer1 = nn.Sequential(nn.ConvTranspose2d(512 + 512, 256, kernel_size=4, stride=2, padding=1), nn.BatchNorm2d(256), nn.LeakyReLU())\n",
        "    self.layer2 = nn.Sequential(nn.ConvTranspose2d(256 + 256, 128, kernel_size=4, stride=2, padding=1), nn.BatchNorm2d(128), nn.LeakyReLU())\n",
        "    self.layer3 = nn.Sequential(nn.ConvTranspose2d(128+128, 64, kernel_size=4, stride=2, padding=1), nn.BatchNorm2d(64), nn.LeakyReLU())\n",
        "    self.layer4 = nn.Sequential(nn.ConvTranspose2d(64+64, 32, kernel_size=4, stride=2, padding=1), nn.BatchNorm2d(32), nn.LeakyReLU())\n",
        "    self.layer5 = nn.Sequential(nn.ConvTranspose2d(32+32, 16, kernel_size=4, stride=2, padding=1), nn.BatchNorm2d(16), nn.LeakyReLU())\n",
        "    self.layer6 = nn.Sequential(nn.ConvTranspose2d(16+3, 3, kernel_size=3, padding=1), nn.Tanh())\n",
        "\n",
        "  def forward(self, encoder_out, inp_x, inp_z):\n",
        "    l1_out = self.layer1(torch.cat([inp_z,  encoder_out[4]], dim=1))\n",
        "    l2_out = self.layer2(torch.cat([l1_out, encoder_out[3]], dim=1))\n",
        "    l3_out = self.layer3(torch.cat([l2_out, encoder_out[2]], dim=1))\n",
        "    l4_out = self.layer4(torch.cat([l3_out, encoder_out[1]], dim=1))\n",
        "    l5_out = self.layer5(torch.cat([l4_out, encoder_out[0]], dim=1))\n",
        "    l6_out = self.layer6(torch.cat([l5_out, inp_x], dim=1))\n",
        "\n",
        "    return l6_out\n",
        "\n",
        "class CISGenerator(torch.nn.Module):\n",
        "  def __init__(self, ce, cd):\n",
        "    super().__init__()\n",
        "    self.ce = ce\n",
        "    self.cd = cd\n",
        "  \n",
        "  def forward(self, inp_x, inp_z):\n",
        "    ot = self.ce(inp_x)\n",
        "    od = self.cd(ot, inp_x, inp_z)\n",
        "    return od\n",
        "\n",
        "class CISDisc(torch.nn.Module):\n",
        "  def __init__(self):\n",
        "    super().__init__()\n",
        "    self.layer1 = nn.Sequential(nn.Conv2d(3, 32, 4, stride=2, padding=1), nn.BatchNorm2d(32), nn.LeakyReLU())\n",
        "    self.layer2 = nn.Sequential(nn.Conv2d(32, 64, 4, stride=2, padding=1), nn.BatchNorm2d(64), nn.LeakyReLU())\n",
        "    self.layer3 = nn.Sequential(nn.Conv2d(64, 128, 4, stride=2, padding=1), nn.BatchNorm2d(128), nn.LeakyReLU())\n",
        "    self.layer4 = nn.Sequential(nn.Conv2d(128, 256, 4, stride=2, padding=1), nn.BatchNorm2d(256), nn.LeakyReLU())\n",
        "    self.layer5 = nn.Sequential(nn.Conv2d(256, 512, 4, stride=2, padding=1), nn.BatchNorm2d(512), nn.LeakyReLU())\n",
        "    self.layer6 = nn.Sequential(nn.Conv2d(512, 1, 3, stride=2, padding=1), nn.Sigmoid())\n",
        "  \n",
        "  def forward(self, X):\n",
        "    l1_out = self.layer1(X)\n",
        "    l2_out = self.layer2(l1_out)\n",
        "    l3_out = self.layer3(l2_out)\n",
        "    l4_out = self.layer4(l3_out)\n",
        "    l5_out = self.layer5(l4_out)\n",
        "    l6_out = self.layer6(l5_out)\n",
        "\n",
        "    return l6_out \n",
        "\n",
        "\n",
        "ce = CISEncoder().to(device)\n",
        "cd = CISDecoder().to(device)\n",
        "\n",
        "cgen = CISGenerator(ce, cd).to(device)\n",
        "cdisc = CISDisc().to(device)\n",
        "\n",
        "inp_x = torch.zeros((10, 3, 64, 64)).type(torch.float).to(device)\n",
        "inp_z = torch.zeros((10, 512, 2, 2)).type(torch.float).to(device)\n",
        "\n",
        "opt = cgen(inp_x, inp_z)\n",
        "out = cdisc(opt)\n"
      ],
      "execution_count": 0,
      "outputs": [
        {
          "output_type": "stream",
          "text": [
            "torch.Size([10, 1, 1, 1])\n"
          ],
          "name": "stdout"
        }
      ]
    },
    {
      "cell_type": "markdown",
      "metadata": {
        "id": "CQA90BuVocXf",
        "colab_type": "text"
      },
      "source": [
        "## CIS Model Wrapper"
      ]
    },
    {
      "cell_type": "code",
      "metadata": {
        "id": "C1WGJEBmocBT",
        "colab_type": "code",
        "colab": {}
      },
      "source": [
        "REAL_LABEL = 1.0\n",
        "FAKE_LABEL = 0.0\n",
        "\n",
        "class CISModelWrapper():\n",
        "  def __init__(self, cgen, cdisc, lr_gen, lr_disc):\n",
        "    self.cgen = cgen\n",
        "    self.cdisc = cdisc\n",
        "    self.optimizerG = torch.optim.Adam(self.cgen.parameters(), lr=lr_gen)\n",
        "    self.optimizerD = torch.optim.Adam(self.cdisc.parameters(), lr=lr_disc)\n",
        "  \n",
        "  def train_samples_disc(self, samples, noise):\n",
        "      \n",
        "    self.cdisc.zero_grad()\n",
        "    noise = noise.to(device)\n",
        "\n",
        "    batch_size = samples.shape[0]  \n",
        "    real_samples = samples.to(device)\n",
        "    real_labels = torch.full((batch_size,), REAL_LABEL, device=device)\n",
        "      \n",
        "    real_output = self.cdisc(real_samples).view(-1)\n",
        "    real_loss = F.binary_cross_entropy(real_output, real_labels)\n",
        "    real_loss.backward()\n",
        "\n",
        "    fake_samples = self.cgen(real_samples, noise)\n",
        "    fake_labels = torch.full((batch_size,), FAKE_LABEL, device=device)\n",
        "\n",
        "    fake_out = self.cdisc(fake_samples.detach()).view(-1)\n",
        "    fake_loss = F.binary_cross_entropy(fake_out, fake_labels)\n",
        "    fake_loss.backward()\n",
        "\n",
        "    total_loss = real_loss + fake_loss\n",
        "    self.optimizerD.step()\n",
        "  \n",
        "  def train_samples_gen(self, samples, noise):\n",
        "\n",
        "    self.cgen.zero_grad()\n",
        "\n",
        "    batch_size = samples.shape[0]\n",
        "    samples = samples.to(device)\n",
        "\n",
        "    gen_out = self.cgen(samples, noise)\n",
        "    labels = torch.full((batch_size,), REAL_LABEL, device=device)\n",
        "\n",
        "    mse_loss = F.mse_loss(gen_out, samples)\n",
        "\n",
        "    disc_out = self.cdisc(gen_out).view(-1)\n",
        "    cls_loss = F.binary_cross_entropy(disc_out, labels)\n",
        "\n",
        "    total_loss = mse_loss + cls_loss\n",
        "\n",
        "    total_loss.backward()\n",
        "    self.optimizerG.step()\n",
        "  \n",
        "  def train_cis(self, data_loader):\n",
        "\n",
        "    for batch_id, samples in enumerate(data_loader):\n",
        "      batch_size = samples.shape[0]\n",
        "      noise = torch.randn(batch_size, 512, 2, 2, device=device)\n",
        "      \n",
        "\n",
        "\n",
        "\n",
        "\n",
        "\n",
        "\n",
        "\n",
        "\n",
        "\n",
        "\n",
        "\n",
        "\n",
        "\n",
        "\n",
        "\n",
        "\n",
        "\n",
        "\n",
        "\n",
        "\n",
        "\n",
        "\n",
        "\n",
        "\n",
        "\n",
        "      \n",
        "\n",
        "\n",
        "\n",
        "\n",
        "\n",
        "\n",
        "\n",
        "\n",
        "\n"
      ],
      "execution_count": 0,
      "outputs": []
    },
    {
      "cell_type": "markdown",
      "metadata": {
        "id": "EvNh3B3FiAPY",
        "colab_type": "text"
      },
      "source": [
        "# Train your networks\n",
        "\n",
        "It might be good to save checkpoints and reload from the most recent. This is due to time constraints inside of colab. (Probably a good idea to train each part in separate blocks?)"
      ]
    },
    {
      "cell_type": "code",
      "metadata": {
        "id": "hQuOI_n_iEiF",
        "colab_type": "code",
        "colab": {}
      },
      "source": [
        ""
      ],
      "execution_count": 0,
      "outputs": []
    },
    {
      "cell_type": "markdown",
      "metadata": {
        "id": "mSyobxVWqBMA",
        "colab_type": "text"
      },
      "source": [
        "# Test your networks\n",
        "\n",
        "Did you remember to cut out a test set? If not you really should, test on images your network has never seen."
      ]
    },
    {
      "cell_type": "code",
      "metadata": {
        "id": "6c0SdpUjqJ88",
        "colab_type": "code",
        "colab": {}
      },
      "source": [
        ""
      ],
      "execution_count": 0,
      "outputs": []
    }
  ]
}